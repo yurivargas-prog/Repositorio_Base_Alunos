{
 "cells": [
  {
   "cell_type": "markdown",
   "id": "c21a6381",
   "metadata": {},
   "source": [
    "# Tutorial sobre a função print()"
   ]
  },
  {
   "cell_type": "markdown",
   "id": "f529ee10",
   "metadata": {},
   "source": [
    "##  O que é o print()?"
   ]
  },
  {
   "cell_type": "markdown",
   "id": "c40976de",
   "metadata": {},
   "source": [
    "O comando print() serve para mostrar mensagens na tela."
   ]
  },
  {
   "cell_type": "code",
   "execution_count": null,
   "id": "bb4bfce1",
   "metadata": {},
   "outputs": [
    {
     "name": "stdout",
     "output_type": "stream",
     "text": [
      "Santana De Parnaíba\n"
     ]
    }
   ],
   "source": [
    "print(\"Santana\",\"De\",\"Parnaíba\")\n"
   ]
  },
  {
   "cell_type": "markdown",
   "id": "9e489ff9",
   "metadata": {},
   "source": [
    "## print() com diferentes tipos de valores"
   ]
  },
  {
   "cell_type": "markdown",
   "id": "f19b6144",
   "metadata": {},
   "source": [
    " 1. Mostrar apenas texto (string)"
   ]
  },
  {
   "cell_type": "code",
   "execution_count": 28,
   "id": "1d8ce5f7",
   "metadata": {},
   "outputs": [
    {
     "name": "stdout",
     "output_type": "stream",
     "text": [
      "Seja bem-vindo!\n"
     ]
    }
   ],
   "source": [
    "print(\"Seja bem-vindo!\")\n"
   ]
  },
  {
   "cell_type": "markdown",
   "id": "27feed4c",
   "metadata": {},
   "source": [
    " 2. Mostrar números"
   ]
  },
  {
   "cell_type": "code",
   "execution_count": 12,
   "id": "b03b216a",
   "metadata": {},
   "outputs": [
    {
     "name": "stdout",
     "output_type": "stream",
     "text": [
      "2025\n"
     ]
    }
   ],
   "source": [
    "print(2025)\n"
   ]
  },
  {
   "cell_type": "markdown",
   "id": "a9a094e2",
   "metadata": {},
   "source": [
    " 3. Mostrar vários elementos juntos"
   ]
  },
  {
   "cell_type": "code",
   "execution_count": 5,
   "id": "ecc2c9ec",
   "metadata": {},
   "outputs": [
    {
     "name": "stdout",
     "output_type": "stream",
     "text": [
      "Python é divertido!\n",
      "Pythonédivertido!\n"
     ]
    }
   ],
   "source": [
    "print(\"Python\", \"é\", \"divertido!\")   # separa por vírgulas\n",
    "print(\"Python\" + \"é\" + \"divertido!\")  # usa + para juntar strings\n"
   ]
  },
  {
   "cell_type": "markdown",
   "id": "d313347f",
   "metadata": {},
   "source": [
    " Dica: O + só funciona entre valores do mesmo tipo (string + string) ou (número + número)!"
   ]
  },
  {
   "cell_type": "code",
   "execution_count": 7,
   "id": "2c7f9792",
   "metadata": {},
   "outputs": [
    {
     "name": "stdout",
     "output_type": "stream",
     "text": [
      "Ano: 2025\n",
      "soma: 20\n",
      "TRALALEROTRALALA\n",
      "1 1\n",
      "11\n"
     ]
    }
   ],
   "source": [
    "#print(\"Ano: \" + 2025)  # ❌ Isso dá erro!\n",
    "print(\"Ano:\", 2025)      # ✅ Forma correta com vírgula\n",
    "print(\"soma:\", 10 + 10) # ✅ Forma correta com vírgula e +\n",
    "print('TRALALERO'+'TRALALA')\n",
    "print('1','1')\n",
    "print('1'+'1')\n"
   ]
  },
  {
   "cell_type": "markdown",
   "id": "bc8f5dd9",
   "metadata": {},
   "source": [
    "4. Mostrar valores armazenados em variáveis"
   ]
  },
  {
   "cell_type": "code",
   "execution_count": 43,
   "id": "25016e43",
   "metadata": {},
   "outputs": [
    {
     "name": "stdout",
     "output_type": "stream",
     "text": [
      "Fulano\n",
      "Fulano Delon G.\n",
      "FulanoDelon G.\n"
     ]
    }
   ],
   "source": [
    "nome = 'Fulano'\n",
    "sobrenome = 'Delon G.'\n",
    "print(nome)\n",
    "print(nome,sobrenome)\n",
    "print(nome+sobrenome)"
   ]
  },
  {
   "cell_type": "code",
   "execution_count": null,
   "id": "63f20c92",
   "metadata": {},
   "outputs": [],
   "source": [
    "idade = 17\n",
    "print('Sua idade é:', idade)\n",
    "#print('Sua idade é:'+idade)  # ❌ Isso dá erro!"
   ]
  },
  {
   "cell_type": "code",
   "execution_count": null,
   "id": "c5c4c155",
   "metadata": {},
   "outputs": [
    {
     "name": "stdout",
     "output_type": "stream",
     "text": [
      "5\n"
     ]
    }
   ],
   "source": [
    "a = 2\n",
    "b = 3\n",
    "print(a + b)"
   ]
  },
  {
   "cell_type": "markdown",
   "id": "abaa4c9f",
   "metadata": {},
   "source": [
    "🔹 Diferença entre vírgula e +"
   ]
  },
  {
   "attachments": {
    "image.png": {
     "image/png": "[encoded data removed]"
    }
   },
   "cell_type": "markdown",
   "id": "73c2f11a",
   "metadata": {},
   "source": [
    "![image.png](attachment:image.png)"
   ]
  },
  {
   "cell_type": "markdown",
   "id": "f8c37bd4",
   "metadata": {},
   "source": [
    "## print() com expressões aritméticas ou expressões lógicas"
   ]
  },
  {
   "cell_type": "markdown",
   "id": "0a1a097d",
   "metadata": {},
   "source": [
    "O comando print exibe o ***RESULTADO*** de qualquer expressão"
   ]
  },
  {
   "cell_type": "markdown",
   "id": "a6da6dca",
   "metadata": {},
   "source": [
    "### Expressões aritméticas "
   ]
  },
  {
   "cell_type": "markdown",
   "id": "690ec78e",
   "metadata": {},
   "source": [
    "Expressões aritméticas são fórmulas matemáticas que tem como resultado um valor numérico"
   ]
  },
  {
   "cell_type": "code",
   "execution_count": 46,
   "id": "a904424b",
   "metadata": {},
   "outputs": [
    {
     "name": "stdout",
     "output_type": "stream",
     "text": [
      "4500.0\n"
     ]
    }
   ],
   "source": [
    "print((5+3*2*(20/3))*100)"
   ]
  },
  {
   "cell_type": "code",
   "execution_count": 47,
   "id": "4ea04619",
   "metadata": {},
   "outputs": [
    {
     "name": "stdout",
     "output_type": "stream",
     "text": [
      "4500.0\n"
     ]
    }
   ],
   "source": [
    "x = 5\n",
    "y = 20\n",
    "z = 3\n",
    "print((x+z*2*(y/z))*100)"
   ]
  },
  {
   "cell_type": "markdown",
   "id": "71c1a394",
   "metadata": {},
   "source": [
    "### Expressões lógicas"
   ]
  },
  {
   "cell_type": "markdown",
   "id": "fe9c3fea",
   "metadata": {},
   "source": [
    "Expressões lógicas são formas de COMPARAR valores usando OPERADORES LÓGICOS.<br>\n",
    "Elas sempre tem como resultado um valor lógico : VERDADEIRO OU FALSO (True ou False)"
   ]
  },
  {
   "cell_type": "code",
   "execution_count": 48,
   "id": "f9ad7f22",
   "metadata": {},
   "outputs": [
    {
     "name": "stdout",
     "output_type": "stream",
     "text": [
      "True\n"
     ]
    }
   ],
   "source": [
    "print(10 > 9) # 10 é maior que 9"
   ]
  },
  {
   "cell_type": "code",
   "execution_count": 49,
   "id": "57e42d8f",
   "metadata": {},
   "outputs": [
    {
     "name": "stdout",
     "output_type": "stream",
     "text": [
      "True\n"
     ]
    }
   ],
   "source": [
    "carro = 'BMW'\n",
    "print(carro == 'BMW')"
   ]
  },
  {
   "cell_type": "code",
   "execution_count": null,
   "id": "035c4a5a",
   "metadata": {},
   "outputs": [],
   "source": []
  }
 ],
 "metadata": {
  "kernelspec": {
   "display_name": "env",
   "language": "python",
   "name": "python3"
  },
  "language_info": {
   "codemirror_mode": {
    "name": "ipython",
    "version": 3
   },
   "file_extension": ".py",
   "mimetype": "text/x-python",
   "name": "python",
   "nbconvert_exporter": "python",
   "pygments_lexer": "ipython3",
   "version": "3.13.2"
  }
 },
 "nbformat": 4,
 "nbformat_minor": 5
}
