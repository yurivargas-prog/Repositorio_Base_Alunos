{
 "cells": [
  {
   "cell_type": "markdown",
   "id": "f3519407",
   "metadata": {},
   "source": [
    "# Tutorial sobre a função input()"
   ]
  },
  {
   "cell_type": "markdown",
   "id": "5ce7e638",
   "metadata": {},
   "source": [
    "## O que é a função input()?"
   ]
  },
  {
   "cell_type": "markdown",
   "id": "b10dc03b",
   "metadata": {},
   "source": [
    "Em Python, a função input() é usada para receber dados digitados pelo usuário durante a execução do programa.\n",
    "\n",
    "Quando o Python encontra input(), ele pausa o programa e espera o usuário digitar algo e apertar ENTER. O que o usuário digitar será retornado como uma string (texto)."
   ]
  },
  {
   "cell_type": "markdown",
   "id": "d67139ce",
   "metadata": {},
   "source": [
    "- input vazio e sem variável:"
   ]
  },
  {
   "cell_type": "code",
   "execution_count": 12,
   "id": "cb074803",
   "metadata": {},
   "outputs": [
    {
     "data": {
      "text/plain": [
       "''"
      ]
     },
     "execution_count": 12,
     "metadata": {},
     "output_type": "execute_result"
    }
   ],
   "source": [
    "input() # Com qualquer função, basta escrever o nome da função e colocar parênteses para \"chamar\" a função"
   ]
  },
  {
   "cell_type": "markdown",
   "id": "8392a2a1",
   "metadata": {},
   "source": [
    "Na maioria das vezes, utilizar um input vazio irá causar confução no usuário no momento de usar o seu aplicativo.<br>\n",
    "Imagine alguém estar esperando uma resposta de você sem nem ter te feito a pergunta antes... "
   ]
  },
  {
   "cell_type": "markdown",
   "id": "752fa658",
   "metadata": {},
   "source": [
    "A função input() pode ter uma string como parâmetro, a mensagem será exibida na tela e logo após o programa irá esperar o usuário digitar algo e apertar ENTER, ou apenas apertar ENTER(neste caso o input ainda retorna uma string, porém vazia)"
   ]
  },
  {
   "cell_type": "markdown",
   "id": "e4cbcfc2",
   "metadata": {},
   "source": [
    "- input com texto:"
   ]
  },
  {
   "cell_type": "code",
   "execution_count": 13,
   "id": "9453dea7",
   "metadata": {},
   "outputs": [
    {
     "data": {
      "text/plain": [
       "'Fulano'"
      ]
     },
     "execution_count": 13,
     "metadata": {},
     "output_type": "execute_result"
    }
   ],
   "source": [
    "input('Qual é o seu nome? ') # Agora o usuário sabe qual é a pergunta e vai saber o que digitar"
   ]
  },
  {
   "cell_type": "markdown",
   "id": "248ddf56",
   "metadata": {},
   "source": [
    "Quando precisamos fazer uma pergunta para alguém, pedir uma informação ou qualquer coisa do tipo, provavelmente é porque esta informação é importante para nós de algum modo e precisaremos dela mais tarde.<br>\n",
    "Portanto, não armazenar o que o usuário digitou em uma variável torna o input inútil na maioria das vezes."
   ]
  },
  {
   "cell_type": "markdown",
   "id": "95c55230",
   "metadata": {},
   "source": [
    "- atribuindo o resultado do input() à uma variável:"
   ]
  },
  {
   "cell_type": "code",
   "execution_count": 15,
   "id": "2b0a3948",
   "metadata": {},
   "outputs": [],
   "source": [
    "nome = input('Qual é o seu nome? ')\n",
    "idade = input(f'Ok {nome}! Agora me diga sua idade. ')"
   ]
  },
  {
   "cell_type": "markdown",
   "id": "a831f8cc",
   "metadata": {},
   "source": [
    "Agora sim teremos a resposta do usuário armazenada em algum lugar na memória do código"
   ]
  },
  {
   "cell_type": "code",
   "execution_count": 16,
   "id": "79e017f7",
   "metadata": {},
   "outputs": [
    {
     "name": "stdout",
     "output_type": "stream",
     "text": [
      "Muito prazer Leticia!\n"
     ]
    }
   ],
   "source": [
    "print('Muito prazer', nome+'!')"
   ]
  },
  {
   "cell_type": "markdown",
   "id": "a241474c",
   "metadata": {},
   "source": [
    "# Convertendo o input() para número"
   ]
  },
  {
   "cell_type": "markdown",
   "id": "8cc46f8c",
   "metadata": {},
   "source": [
    "Como o input() sempre retorna string, precisamos converter os dados se quisermos fazer contas."
   ]
  },
  {
   "cell_type": "markdown",
   "id": "e5c026ee",
   "metadata": {},
   "source": [
    "Exemplo com um número inteiro:"
   ]
  },
  {
   "cell_type": "code",
   "execution_count": 17,
   "id": "1c500d5c",
   "metadata": {},
   "outputs": [
    {
     "name": "stdout",
     "output_type": "stream",
     "text": [
      "Ano que vem, você terá 18 anos.\n"
     ]
    }
   ],
   "source": [
    "idade = input(\"Qual é a sua idade? \")\n",
    "idade = int(idade)  # convertendo para número inteiro\n",
    "print(\"Ano que vem, você terá\", idade + 1, \"anos.\")\n"
   ]
  },
  {
   "cell_type": "markdown",
   "id": "094710a7",
   "metadata": {},
   "source": [
    "Ou em apenas uma linha:"
   ]
  },
  {
   "cell_type": "code",
   "execution_count": 18,
   "id": "be8feeb3",
   "metadata": {},
   "outputs": [],
   "source": [
    "idade = int(input(\"Qual é a sua idade? \"))\n"
   ]
  },
  {
   "cell_type": "markdown",
   "id": "0a115e82",
   "metadata": {},
   "source": [
    "Exemplo com um número decimal:"
   ]
  },
  {
   "cell_type": "code",
   "execution_count": 12,
   "id": "bdb0e099",
   "metadata": {},
   "outputs": [
    {
     "name": "stdout",
     "output_type": "stream",
     "text": [
      "Sua altura é: 1.72 m\n"
     ]
    }
   ],
   "source": [
    "altura = float(input(\"Digite sua altura em metros (ex: 1.70): \"))\n",
    "print(\"Sua altura é:\", altura, \"m\")\n"
   ]
  },
  {
   "cell_type": "markdown",
   "id": "8f694871",
   "metadata": {},
   "source": [
    "Recapitulando"
   ]
  },
  {
   "attachments": {
    "image.png": {
     "image/png": "[encoded data removed]"
    }
   },
   "cell_type": "markdown",
   "id": "34067471",
   "metadata": {},
   "source": [
    "![image.png](attachment:image.png)"
   ]
  },
  {
   "cell_type": "code",
   "execution_count": null,
   "id": "bf93ec6e",
   "metadata": {},
   "outputs": [],
   "source": []
  }
 ],
 "metadata": {
  "kernelspec": {
   "display_name": "Python 3",
   "language": "python",
   "name": "python3"
  },
  "language_info": {
   "codemirror_mode": {
    "name": "ipython",
    "version": 3
   },
   "file_extension": ".py",
   "mimetype": "text/x-python",
   "name": "python",
   "nbconvert_exporter": "python",
   "pygments_lexer": "ipython3",
   "version": "3.13.2"
  }
 },
 "nbformat": 4,
 "nbformat_minor": 5
}
