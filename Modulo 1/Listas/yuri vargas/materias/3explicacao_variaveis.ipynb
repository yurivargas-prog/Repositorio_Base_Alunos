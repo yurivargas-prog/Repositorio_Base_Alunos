{
 "cells": [
  {
   "cell_type": "markdown",
   "id": "8e946256",
   "metadata": {},
   "source": [
    "# Tutorial Variáveis"
   ]
  },
  {
   "cell_type": "markdown",
   "id": "c4c4b67a",
   "metadata": {},
   "source": [
    "##  O que são variáveis?"
   ]
  },
  {
   "cell_type": "markdown",
   "id": "cad757fb",
   "metadata": {},
   "source": [
    "Variáveis são espaços na memória do computador onde podemos guardar informações (como textos, números, resultados de cálculos, etc.) para usar depois.\n",
    "\n",
    "📦 Pense numa variável como uma caixinha com nome que armazena algum valor."
   ]
  },
  {
   "cell_type": "markdown",
   "id": "643a34f9",
   "metadata": {},
   "source": [
    " - Em Python, usamos o sinal de igual = para atribuir um valor a uma variável."
   ]
  },
  {
   "cell_type": "markdown",
   "id": "f0017972",
   "metadata": {},
   "source": [
    "🔹 Variável com texto (string)"
   ]
  },
  {
   "cell_type": "code",
   "execution_count": 5,
   "id": "6a0a2b1a",
   "metadata": {},
   "outputs": [
    {
     "name": "stdout",
     "output_type": "stream",
     "text": [
      "Ana\n"
     ]
    }
   ],
   "source": [
    "nome = \"Ana\"\n",
    "print(nome)\n"
   ]
  },
  {
   "cell_type": "code",
   "execution_count": 3,
   "id": "f35ac541",
   "metadata": {},
   "outputs": [],
   "source": [
    "nome = 'Pedro'"
   ]
  },
  {
   "cell_type": "code",
   "execution_count": 6,
   "id": "25fbb9de",
   "metadata": {},
   "outputs": [
    {
     "name": "stdout",
     "output_type": "stream",
     "text": [
      "Ana\n"
     ]
    }
   ],
   "source": [
    "print(nome)"
   ]
  },
  {
   "cell_type": "markdown",
   "id": "c8d9742f",
   "metadata": {},
   "source": [
    "🔹 Variável com número inteiro (int)"
   ]
  },
  {
   "cell_type": "code",
   "execution_count": 2,
   "id": "27e5849a",
   "metadata": {},
   "outputs": [
    {
     "name": "stdout",
     "output_type": "stream",
     "text": [
      "16\n"
     ]
    }
   ],
   "source": [
    "idade = 16\n",
    "print(idade)\n"
   ]
  },
  {
   "cell_type": "markdown",
   "id": "37b012d8",
   "metadata": {},
   "source": [
    "🔹 Variável com número decimal (float)"
   ]
  },
  {
   "cell_type": "code",
   "execution_count": 3,
   "id": "34c2427e",
   "metadata": {},
   "outputs": [
    {
     "name": "stdout",
     "output_type": "stream",
     "text": [
      "1.65\n"
     ]
    }
   ],
   "source": [
    "altura = 1.65\n",
    "print(altura)\n"
   ]
  },
  {
   "cell_type": "markdown",
   "id": "b7e5990d",
   "metadata": {},
   "source": [
    "🔹 Variável com valor booleano (bool)"
   ]
  },
  {
   "cell_type": "code",
   "execution_count": 4,
   "id": "b09e6e26",
   "metadata": {},
   "outputs": [
    {
     "name": "stdout",
     "output_type": "stream",
     "text": [
      "True\n"
     ]
    }
   ],
   "source": [
    "estudando = True\n",
    "print(estudando)\n"
   ]
  },
  {
   "cell_type": "markdown",
   "id": "1283b4b8",
   "metadata": {},
   "source": [
    "🔹 Variável com expressões aritméticas ou lógicas"
   ]
  },
  {
   "cell_type": "code",
   "execution_count": 8,
   "id": "32907b0e",
   "metadata": {},
   "outputs": [
    {
     "name": "stdout",
     "output_type": "stream",
     "text": [
      "3.5\n",
      "False\n"
     ]
    }
   ],
   "source": [
    "a = 2\n",
    "b = 5\n",
    "media = (a+b)/2 # Expressão aritmética (CALCULO)\n",
    "maior = a>b # Expressão lógica (COMPARAÇÃO)\n",
    "print(media)\n",
    "print(maior)"
   ]
  },
  {
   "cell_type": "markdown",
   "id": "c5b3eecb",
   "metadata": {},
   "source": [
    "## Nomes de variáveis"
   ]
  },
  {
   "cell_type": "markdown",
   "id": "4a85970f",
   "metadata": {},
   "source": [
    "Você pode dar quase qualquer nome para uma variável, mas siga essas regras:\n",
    "\n",
    "✅ Pode:\n",
    "- Começar com letras ou _\n",
    "\n",
    "- Usar letras minúsculas ou maiúsculas\n",
    "\n",
    "- Usar números (mas não no começo)"
   ]
  },
  {
   "cell_type": "code",
   "execution_count": 11,
   "id": "23a3b8dc",
   "metadata": {},
   "outputs": [],
   "source": [
    "nome = \"João\"\n",
    "nota1 = 8.5\n",
    "_temporario = 10\n"
   ]
  },
  {
   "cell_type": "markdown",
   "id": "717b79b5",
   "metadata": {},
   "source": [
    "❌ Não pode:\n",
    "- Começar com número\n",
    "\n",
    "- Usar espaços\n",
    "\n",
    "- Usar acentos ou caracteres especiais\n",
    "\n",
    "- Usar palavras reservadas do Python (como if, for, class, etc.)"
   ]
  },
  {
   "cell_type": "code",
   "execution_count": null,
   "id": "823ccfcf",
   "metadata": {},
   "outputs": [],
   "source": [
    "# ERRADO\n",
    "1idade = 16        # começa com número\n",
    "meu nome = \"Ana\"   # espaço não é permitido\n"
   ]
  },
  {
   "cell_type": "markdown",
   "id": "6193cf10",
   "metadata": {},
   "source": [
    "### O que é snake_case?"
   ]
  },
  {
   "cell_type": "markdown",
   "id": "26731df3",
   "metadata": {},
   "source": [
    "snake_case é um estilo de escrita usado para nomes de variáveis, funções, e nomes em geral no código.<br>\n",
    "Nesse estilo, as palavras são todas em minúsculas e separadas por um underline (_)."
   ]
  },
  {
   "cell_type": "markdown",
   "id": "e576e589",
   "metadata": {},
   "source": [
    "📌 ***Por que usar snake_case?***\n",
    "- Deixa o código mais fácil de ler\n",
    "\n",
    "- É o padrão recomendado pela comunidade Python\n",
    "\n",
    "- Segue a PEP 8, que é o guia de estilo oficial do Python\n",
    "\n",
    "🧠 PEP 8 é um documento que recomenda boas práticas para escrever código Python limpo e legível."
   ]
  },
  {
   "cell_type": "markdown",
   "id": "27c6d2de",
   "metadata": {},
   "source": [
    "✅ Exemplos corretos com snake_case:"
   ]
  },
  {
   "cell_type": "code",
   "execution_count": 10,
   "id": "c617427c",
   "metadata": {},
   "outputs": [],
   "source": [
    "nome_completo = \"Maria da Silva\"\n",
    "media_final = 8.75\n",
    "numero_de_alunos = 30"
   ]
  },
  {
   "cell_type": "markdown",
   "id": "7bc01a8e",
   "metadata": {},
   "source": [
    "❌ Exemplos que não usam snake_case:"
   ]
  },
  {
   "cell_type": "code",
   "execution_count": 11,
   "id": "dc543f1f",
   "metadata": {},
   "outputs": [],
   "source": [
    "nomeCompleto = \"Maria\"      # estilo camelCase (mais comum em JavaScript)\n",
    "NomeCompleto = \"Maria\"      # estilo PascalCase (usado para classes em Python)\n",
    "nomecompleto = \"Maria\"      # difícil de ler"
   ]
  },
  {
   "cell_type": "markdown",
   "id": "2a1b8c74",
   "metadata": {},
   "source": [
    "✅ Todos esses funcionam em Python, ***mas o RECOMENDADO é usar snake_case***, principalmente em variáveis e funções."
   ]
  },
  {
   "cell_type": "markdown",
   "id": "013cdb7f",
   "metadata": {},
   "source": [
    "### 🧠 Dica importante\n"
   ]
  },
  {
   "cell_type": "markdown",
   "id": "1827030b",
   "metadata": {},
   "source": [
    "Nomes de variáveis devem fazer sentido\n",
    "\n",
    "Evite abreviações confusas"
   ]
  },
  {
   "cell_type": "markdown",
   "id": "4dd62e74",
   "metadata": {},
   "source": [
    "❌ Exemplo ruim:"
   ]
  },
  {
   "cell_type": "code",
   "execution_count": 12,
   "id": "7b8f4478",
   "metadata": {},
   "outputs": [],
   "source": [
    "n1 = 8\n",
    "n2 = 7\n",
    "m = (n1 + n2) / 2\n"
   ]
  },
  {
   "cell_type": "markdown",
   "id": "c3a3b4f6",
   "metadata": {},
   "source": [
    "✅ Exemplo melhor:"
   ]
  },
  {
   "cell_type": "code",
   "execution_count": 13,
   "id": "03120a7b",
   "metadata": {},
   "outputs": [],
   "source": [
    "nota_1 = 8\n",
    "nota_2 = 7\n",
    "media = (nota_1 + nota_2) / 2"
   ]
  },
  {
   "cell_type": "code",
   "execution_count": null,
   "id": "ae31e44a",
   "metadata": {},
   "outputs": [],
   "source": []
  }
 ],
 "metadata": {
  "kernelspec": {
   "display_name": "Python 3",
   "language": "python",
   "name": "python3"
  },
  "language_info": {
   "codemirror_mode": {
    "name": "ipython",
    "version": 3
   },
   "file_extension": ".py",
   "mimetype": "text/x-python",
   "name": "python",
   "nbconvert_exporter": "python",
   "pygments_lexer": "ipython3",
   "version": "3.13.2"
  }
 },
 "nbformat": 4,
 "nbformat_minor": 5
}
