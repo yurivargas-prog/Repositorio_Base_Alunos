{
 "cells": [
  {
   "cell_type": "markdown",
   "id": "0db1e897",
   "metadata": {},
   "source": [
    "# Operadores Lógicos e Expressões Lógicas em Python"
   ]
  },
  {
   "cell_type": "markdown",
   "id": "f9a8ea7d",
   "metadata": {},
   "source": [
    "## O que são Expressões Lógicas?"
   ]
  },
  {
   "cell_type": "markdown",
   "id": "9554ae2b",
   "metadata": {},
   "source": [
    "Em programação, expressões lógicas são perguntas que o computador responde com True (verdadeiro) ou False (falso)."
   ]
  },
  {
   "cell_type": "markdown",
   "id": "51346826",
   "metadata": {},
   "source": [
    "Você pode imaginar como se estivesse perguntando para o computador:\n",
    "\n",
    "- “10 é maior que 5?”\n",
    "\n",
    "- “Ana tem mais de 18 anos?”\n",
    "\n",
    "- “2 + 2 é igual a 5?”"
   ]
  },
  {
   "cell_type": "code",
   "execution_count": 1,
   "id": "267ebef8",
   "metadata": {},
   "outputs": [
    {
     "name": "stdout",
     "output_type": "stream",
     "text": [
      "True\n",
      "False\n",
      "True\n"
     ]
    }
   ],
   "source": [
    "print(10 > 5)   # True – Sim, 10 é maior que 5\n",
    "print(3 == 7)   # False – Não, 3 não é igual a 7\n",
    "print(8 != 4)   # True – Sim, 8 é diferente de 4"
   ]
  },
  {
   "cell_type": "markdown",
   "id": "4b532d1a",
   "metadata": {},
   "source": [
    "### Operadores de comparação"
   ]
  },
  {
   "cell_type": "markdown",
   "id": "85708264",
   "metadata": {},
   "source": [
    "Esses operadores servem para comparar dois valores"
   ]
  },
  {
   "attachments": {
    "image.png": {
     "image/png": "[encoded data removed]"
    }
   },
   "cell_type": "markdown",
   "id": "b1e022ea",
   "metadata": {},
   "source": [
    "![image.png](attachment:image.png)"
   ]
  },
  {
   "cell_type": "markdown",
   "id": "e8f80a4e",
   "metadata": {},
   "source": [
    "Essas comparações são muito importantes para fazer decisões nos programas."
   ]
  },
  {
   "cell_type": "markdown",
   "id": "4f273a36",
   "metadata": {},
   "source": [
    "###  Operadores Lógicos"
   ]
  },
  {
   "cell_type": "markdown",
   "id": "bcb22eca",
   "metadata": {},
   "source": [
    "Os operadores lógicos são usados quando queremos combinar duas ou mais expressões lógicas."
   ]
  },
  {
   "cell_type": "markdown",
   "id": "f3557912",
   "metadata": {},
   "source": [
    "***and*** → E\n",
    "- Só dá True se as duas condições forem verdadeiras"
   ]
  },
  {
   "cell_type": "code",
   "execution_count": 4,
   "id": "b3765665",
   "metadata": {},
   "outputs": [
    {
     "name": "stdout",
     "output_type": "stream",
     "text": [
      "True\n",
      "False\n"
     ]
    }
   ],
   "source": [
    "print(5 > 2 and 4 < 6)    # True → as duas são verdadeiras\n",
    "print(3 == 3 and 7 < 5)   # False → a segunda é falsa"
   ]
  },
  {
   "cell_type": "markdown",
   "id": "a0a984df",
   "metadata": {},
   "source": [
    "***or*** → OU\n",
    "- Dá True se pelo menos uma das condições for verdadeira."
   ]
  },
  {
   "cell_type": "code",
   "execution_count": 2,
   "id": "e22535ef",
   "metadata": {},
   "outputs": [
    {
     "name": "stdout",
     "output_type": "stream",
     "text": [
      "True\n",
      "False\n"
     ]
    }
   ],
   "source": [
    "print(10 == 10 or 3 > 4)  # True → a primeira é verdadeira\n",
    "print(1 > 2 or 5 < 3)     # False → as duas são falsas"
   ]
  },
  {
   "cell_type": "markdown",
   "id": "a4742c9f",
   "metadata": {},
   "source": [
    "***not*** → NÃO\n",
    "- Inverte o valor da expressão."
   ]
  },
  {
   "cell_type": "code",
   "execution_count": 8,
   "id": "5574be31",
   "metadata": {},
   "outputs": [
    {
     "name": "stdout",
     "output_type": "stream",
     "text": [
      "False\n",
      "True\n"
     ]
    }
   ],
   "source": [
    "print(not True)           # False\n",
    "print(not (7 == 5))       # True, pois (7 == 5) é False\n"
   ]
  }
 ],
 "metadata": {
  "kernelspec": {
   "display_name": "env",
   "language": "python",
   "name": "python3"
  },
  "language_info": {
   "codemirror_mode": {
    "name": "ipython",
    "version": 3
   },
   "file_extension": ".py",
   "mimetype": "text/x-python",
   "name": "python",
   "nbconvert_exporter": "python",
   "pygments_lexer": "ipython3",
   "version": "3.13.2"
  }
 },
 "nbformat": 4,
 "nbformat_minor": 5
}
