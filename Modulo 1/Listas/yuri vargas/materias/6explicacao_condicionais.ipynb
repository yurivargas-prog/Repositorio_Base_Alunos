{
 "cells": [
  {
   "cell_type": "markdown",
   "id": "c1e8c244",
   "metadata": {},
   "source": [
    "## Condições Simples"
   ]
  },
  {
   "cell_type": "markdown",
   "id": "4113085d",
   "metadata": {},
   "source": [
    "Para condições em Python utilizamos a palvra *if* que siginifa 'se' em Português.<br>\n",
    "Com a condição, você consegue executar um conjunto de códigos APENAS se o resultado da expressão lógica for 'Verdadeiro' (True)"
   ]
  },
  {
   "cell_type": "markdown",
   "id": "6d9e53fe",
   "metadata": {},
   "source": [
    "### Por que usar condicionais?"
   ]
  },
  {
   "cell_type": "markdown",
   "id": "9cbcbbb9",
   "metadata": {},
   "source": [
    "Muitas vezes, o programa precisa tomar decisões, como:\n",
    "\n",
    "- Se a pessoa for maior de idade, pode entrar.\n",
    "\n",
    "- Se a média for maior que 7, o aluno está aprovado.\n",
    "\n",
    "- Se a senha estiver certa, o acesso é liberado.\n",
    "\n",
    "Para isso, usamos as estruturas condicionais."
   ]
  },
  {
   "cell_type": "markdown",
   "id": "10b1bef1",
   "metadata": {},
   "source": [
    "- if (expressão lógica):"
   ]
  },
  {
   "cell_type": "code",
   "execution_count": 2,
   "id": "9d47fb4f",
   "metadata": {},
   "outputs": [
    {
     "name": "stdout",
     "output_type": "stream",
     "text": [
      "Maior de idade\n"
     ]
    }
   ],
   "source": [
    "idade = int(input('Qual é a sua idade?'))\n",
    "if idade >= 18:\n",
    "    print('Maior de idade')\n",
    "    "
   ]
  },
  {
   "cell_type": "markdown",
   "id": "ede5b8e5",
   "metadata": {},
   "source": [
    "Caso a condição *if* não seja 'VERDADEIRA' ela não irá rodar os códigos relacionados a ela.<br>\n",
    "Neste caso, o python não saberá o que fazer, a menos que você coloque uma condição final *else*, que signica em Português \"Senão\" ou \"Caso contrário."
   ]
  },
  {
   "cell_type": "code",
   "execution_count": 3,
   "id": "92329848",
   "metadata": {},
   "outputs": [
    {
     "name": "stdout",
     "output_type": "stream",
     "text": [
      "Menor de idade\n"
     ]
    }
   ],
   "source": [
    "idade = int(input('Qual é a sua idade?'))\n",
    "if idade >= 18:\n",
    "    print('Maior de idade')\n",
    "else:\n",
    "    print('Menor de idade')"
   ]
  },
  {
   "cell_type": "markdown",
   "id": "3b7db6c2",
   "metadata": {},
   "source": [
    "No código acima, a mensagem \"Maior de idade\" será exibida na tela APENAS SE idade foir maior ou igual a 18. CASO CONTRÁRIO, a mensagem \"Menor de idade\" aparecerá."
   ]
  },
  {
   "cell_type": "markdown",
   "id": "5810c386",
   "metadata": {},
   "source": [
    "## Mais de uma condição:"
   ]
  },
  {
   "cell_type": "markdown",
   "id": "1d1d122c",
   "metadata": {},
   "source": [
    "if = Se isso acontecer, faça isso.\n",
    "\n",
    "elif = Senão, se acontecer outra coisa, faça aquilo.\n",
    "\n",
    "else = Senão, faça isso aqui."
   ]
  },
  {
   "cell_type": "code",
   "execution_count": 87,
   "id": "9b5ceec4",
   "metadata": {},
   "outputs": [
    {
     "name": "stdout",
     "output_type": "stream",
     "text": [
      "Menor de idade\n"
     ]
    }
   ],
   "source": [
    "idade = int(input('Qual é a sua idade?'))\n",
    "if idade >= 19:\n",
    "    print('Maior de idade')\n",
    "elif idade == 18:\n",
    "    print('Parabéns você acabou de atingir a maior idade. Já pode ser preso.')\n",
    "else:\n",
    "    print('Menor de idade')"
   ]
  },
  {
   "cell_type": "markdown",
   "id": "c1373a71",
   "metadata": {},
   "source": [
    "## 💡 Importante"
   ]
  },
  {
   "cell_type": "markdown",
   "id": "553ac6c5",
   "metadata": {},
   "source": [
    " Recuo (indentação)<br>\n",
    "O Python usa a indentação (espaços à frente da linha) para saber o que faz parte do if, elif ou else."
   ]
  },
  {
   "cell_type": "code",
   "execution_count": 3,
   "id": "37e58680",
   "metadata": {},
   "outputs": [
    {
     "name": "stdout",
     "output_type": "stream",
     "text": [
      "Esta linha está dentro do if\n",
      "Esta linha está fora\n"
     ]
    }
   ],
   "source": [
    "if True:\n",
    "    print(\"Esta linha está dentro do if\")\n",
    "    \n",
    "print(\"Esta linha está fora\")"
   ]
  },
  {
   "attachments": {
    "image.png": {
     "image/png": "[encoded data removed]"
    }
   },
   "cell_type": "markdown",
   "id": "7d5606b3",
   "metadata": {},
   "source": [
    "![image.png](attachment:image.png)"
   ]
  },
  {
   "cell_type": "markdown",
   "id": "18b3ea73",
   "metadata": {},
   "source": [
    "## Condições Aninhadas"
   ]
  },
  {
   "cell_type": "markdown",
   "id": "07e178d0",
   "metadata": {},
   "source": [
    "https://pbs.twimg.com/media/Cw7ti4sXUAEzVXU.jpg"
   ]
  },
  {
   "cell_type": "code",
   "execution_count": null,
   "id": "c914c63f",
   "metadata": {},
   "outputs": [],
   "source": [
    "idade = int(input('Qual é a sua idade?'))\n",
    "\n",
    "if idade >= 18:\n",
    "\n",
    "    cnh = int(input('Você tem habilitação? (1 para sim/ 2 para não)'))\n",
    "    if cnh == 1:\n",
    "        print('Pode dirigir')\n",
    "    else:\n",
    "        print('Não pode dirigir')\n",
    "\n",
    "else:\n",
    "    print('Não pode dirigir')"
   ]
  }
 ],
 "metadata": {
  "kernelspec": {
   "display_name": "env",
   "language": "python",
   "name": "python3"
  },
  "language_info": {
   "codemirror_mode": {
    "name": "ipython",
    "version": 3
   },
   "file_extension": ".py",
   "mimetype": "text/x-python",
   "name": "python",
   "nbconvert_exporter": "python",
   "pygments_lexer": "ipython3",
   "version": "3.13.2"
  }
 },
 "nbformat": 4,
 "nbformat_minor": 5
}
